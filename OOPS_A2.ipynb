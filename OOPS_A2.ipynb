{
 "cells": [
  {
   "cell_type": "markdown",
   "id": "c4bf99f7-a8ae-43c1-8980-750d39200c37",
   "metadata": {},
   "source": [
    "#Q1\n",
    "Objects in an OOP language provide an abstraction that hides the internal implementation details. we just need to know which methods of the object are available to call and which input parameters are needed to trigger a specific operation. But we don’t need to understand how this method is implemented and which kinds of actions it has to perform to create the expected result."
   ]
  },
  {
   "cell_type": "code",
   "execution_count": 1,
   "id": "3606af4b-b8d5-4930-bf60-25efc843f1df",
   "metadata": {},
   "outputs": [],
   "source": [
    "import abc\n",
    "class pwskills:\n",
    "    @abc.abstractmethod\n",
    "    def student_details(self):\n",
    "        pass\n",
    "    @abc.abstractmethod\n",
    "    def student_assignment(self):\n",
    "        pass\n",
    "    @abc.abstractmethod\n",
    "    def student_marks(self):\n",
    "        pass"
   ]
  },
  {
   "cell_type": "code",
   "execution_count": 2,
   "id": "d53c3631-c7f3-4f6f-bb19-c025d4715b5c",
   "metadata": {},
   "outputs": [],
   "source": [
    "class student_detail(pwskills):\n",
    "    def student_details(self):\n",
    "        return \"this is a method for taking student details\"\n",
    "    def student_assignment(self):\n",
    "        return \"this is a method for a particular student\""
   ]
  },
  {
   "cell_type": "code",
   "execution_count": 3,
   "id": "2c2f30dc-0fce-4a2b-b209-2caf6b924ad6",
   "metadata": {},
   "outputs": [],
   "source": [
    "class data_science_masters(pwskills):\n",
    "    def student_details(self):\n",
    "        return \"this is a meth for taking student details for data science master\"\n",
    "    def student_assignment(self):\n",
    "        return \"this will give you a student assignment detailed for data science masters\""
   ]
  },
  {
   "cell_type": "code",
   "execution_count": 4,
   "id": "ba0af46b-6ad5-4dd1-a4b9-74eba61653dd",
   "metadata": {},
   "outputs": [
    {
     "data": {
      "text/plain": [
       "'this is a meth for taking student details for data science master'"
      ]
     },
     "execution_count": 4,
     "metadata": {},
     "output_type": "execute_result"
    }
   ],
   "source": [
    "dsm = data_science_masters()\n",
    "dsm.student_details()"
   ]
  },
  {
   "cell_type": "code",
   "execution_count": 5,
   "id": "140561f0-4291-4c72-a7d2-505241026d29",
   "metadata": {},
   "outputs": [
    {
     "data": {
      "text/plain": [
       "'this is a method for taking student details'"
      ]
     },
     "execution_count": 5,
     "metadata": {},
     "output_type": "execute_result"
    }
   ],
   "source": [
    "sd = student_detail()\n",
    "sd.student_details()"
   ]
  },
  {
   "cell_type": "markdown",
   "id": "db1b8acb-be48-44c9-9b9a-f3c5267cc222",
   "metadata": {},
   "source": [
    "#Q2\n",
    "Encapsulation is the packing of \"data\" and \"functions operating on that data\" into a single component and restricting the access to some of the object's components.Encapsulation means that the internal representation of an object is generally hidden from view outside of the object's definition.\n",
    "\n",
    "Abstraction is a mechanism which represent the essential features without including implementation details."
   ]
  },
  {
   "cell_type": "code",
   "execution_count": 6,
   "id": "8135117e-a287-4808-b75e-98bae92339b6",
   "metadata": {},
   "outputs": [],
   "source": [
    "#encapsulation\n",
    "class bank_account :\n",
    "    def __init__(self,balance) :\n",
    "        self.__balance = balance\n",
    "        \n",
    "    def deposit(self , amount) :\n",
    "        self.__balance = self.__balance + amount\n",
    "        \n",
    "        \n",
    "    def withdraw(self ,amount):\n",
    "        if self.__balance >= amount:\n",
    "            self.__balance = self.__balance - amount\n",
    "            return True\n",
    "        else :\n",
    "            return False\n",
    "    def get_balance(self):\n",
    "        return self.__balance"
   ]
  },
  {
   "cell_type": "code",
   "execution_count": 7,
   "id": "1bc40516-96ae-4058-88a5-b3a2b1ce1298",
   "metadata": {},
   "outputs": [],
   "source": [
    "sach = bank_account(1000)"
   ]
  },
  {
   "cell_type": "code",
   "execution_count": 8,
   "id": "8ecd5907-e024-4e5a-86ec-dfae8f7ba5a5",
   "metadata": {},
   "outputs": [
    {
     "data": {
      "text/plain": [
       "1000"
      ]
     },
     "execution_count": 8,
     "metadata": {},
     "output_type": "execute_result"
    }
   ],
   "source": [
    "sach.get_balance()"
   ]
  },
  {
   "cell_type": "code",
   "execution_count": 9,
   "id": "ab7aa662-36b0-4ae7-b399-784398d1ea87",
   "metadata": {},
   "outputs": [],
   "source": [
    "#balance can only be assessed through the method exposed else it remains private"
   ]
  },
  {
   "cell_type": "markdown",
   "id": "d1a3369a-13ad-47c8-a260-feb476c7b58c",
   "metadata": {},
   "source": [
    "#Q3\n",
    "Python has a module called abc (abstract base class) that offers the necessary tools for crafting an abstract base class.\n",
    "\n",
    "The main goal of the abstract base class is to provide a standardized way to test whether an object adheres to a given specification. It can also prevent any attempt to instantiate a subclass that doesn’t override a particular method in the superclass. And finally, using an abstract class, a class can derive identity from another class without any object inheritance."
   ]
  },
  {
   "cell_type": "markdown",
   "id": "ac9bec76-95f6-490e-a1be-9014ee4c1891",
   "metadata": {},
   "source": [
    "#Q4\n",
    "Data Abstraction in Python can be achieved through creating abstract classes and inheriting them later.\n",
    "\n",
    "we cannot create objects of an abstract class and these are only meant to be inherited. Then an object of the derived class is used to access the features of the base class. These are specifically defined to lay a foundation of other classes that exhibit common behavior or characteristics."
   ]
  },
  {
   "cell_type": "markdown",
   "id": "65b227ac-a837-4d97-9b37-5ad52a63d74a",
   "metadata": {},
   "source": [
    "#Q5\n",
    "Abstract classes are classes that we cannot create instances from.\n",
    "\n",
    "an abstract class is a class that cannot be instantiated. However, we can create classes that inherit from an abstract class.\n",
    "Typically, we use an abstract class to create a blueprint for other classes.\n",
    "Similarly, an abstract method is an method without an implementation."
   ]
  },
  {
   "cell_type": "code",
   "execution_count": null,
   "id": "a4453467-e921-42f2-b240-cffae5d21fd2",
   "metadata": {},
   "outputs": [],
   "source": []
  }
 ],
 "metadata": {
  "kernelspec": {
   "display_name": "Python 3 (ipykernel)",
   "language": "python",
   "name": "python3"
  },
  "language_info": {
   "codemirror_mode": {
    "name": "ipython",
    "version": 3
   },
   "file_extension": ".py",
   "mimetype": "text/x-python",
   "name": "python",
   "nbconvert_exporter": "python",
   "pygments_lexer": "ipython3",
   "version": "3.10.8"
  }
 },
 "nbformat": 4,
 "nbformat_minor": 5
}
